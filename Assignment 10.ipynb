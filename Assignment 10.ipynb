{
 "cells": [
  {
   "cell_type": "markdown",
   "id": "a4273dc2-f9bc-4f65-a2be-3a62b5d3fa6f",
   "metadata": {},
   "source": [
    "## Q1, Create a vehicle class with an init method having instance variables as name_of_vehicle, max_speed and average_of_vehicle."
   ]
  },
  {
   "cell_type": "code",
   "execution_count": 1,
   "id": "d49e6ad8-c047-4b30-84b9-a62f2e7fc2d1",
   "metadata": {},
   "outputs": [],
   "source": [
    "#a vehicle class with an init method having instance variables as name_of_vehicle, max_speed and average_of_vehicle.\n",
    "class vehicle:\n",
    "    def __init__(self, name_of_vehicle, max_speed, average_of_vehicle):\n",
    "        self.name_of_vehicle = name_of_vehicle\n",
    "        self.max_speed = max_speed\n",
    "        self.average_of_vehicle = average_of_vehicle"
   ]
  },
  {
   "cell_type": "markdown",
   "id": "aa9da412-cb11-4333-93eb-f54c07736e6b",
   "metadata": {},
   "source": [
    "## Q2. Create a child class car from the vehicle class created in Que 1, which will inherit the vehicle class. Create a method named seating_capacity which takes capacity as an argument and returns the name of the vehicle and its seating capacity."
   ]
  },
  {
   "cell_type": "code",
   "execution_count": 13,
   "id": "71ff2309-162f-4e92-a628-2c5dec02d0ff",
   "metadata": {},
   "outputs": [],
   "source": [
    "#a child class car from the vehicle class created in Que 1, which will inherit the vehicle class.\n",
    "# Create a method named seating_capacity which takes capacity as an argument and returns the name of the vehicle and its seating capacity.\n",
    "class car(vehicle):\n",
    "    def seating_capacity(self, capacity):\n",
    "        self.capacity = capacity\n",
    "        return self.name_of_vehicle, self.capacity"
   ]
  },
  {
   "cell_type": "code",
   "execution_count": 14,
   "id": "552de380-6673-4655-851e-c6efd2b9e91a",
   "metadata": {},
   "outputs": [
    {
     "data": {
      "text/plain": [
       "('Bugatti Bolide', 4)"
      ]
     },
     "execution_count": 14,
     "metadata": {},
     "output_type": "execute_result"
    }
   ],
   "source": [
    "c1= car(\"Bugatti Bolide\", 310, 310)\n",
    "c1.seating_capacity(4)"
   ]
  },
  {
   "cell_type": "markdown",
   "id": "64cf3412-2c0c-427f-ae77-e1a08e2f0ad7",
   "metadata": {},
   "source": [
    "## Q3. What is multiple inheritance? Write a python code to demonstrate multiple inheritance."
   ]
  },
  {
   "cell_type": "markdown",
   "id": "dc7ce16a-e241-42ff-a561-ccfc3b6d2f4e",
   "metadata": {},
   "source": [
    "Multiple inheritance is a feature of object-oriented programming (OOP) languages where a class can inherit properties and methods from more than one parent class. In other words, a class can inherit from multiple classes, thus inheriting the attributes and behaviors of all its parent classes.\n",
    "\n",
    "Here is an example of multiple inheritance in Python:"
   ]
  },
  {
   "cell_type": "code",
   "execution_count": 16,
   "id": "924884b4-adcf-482a-b18f-ee5df8709b28",
   "metadata": {},
   "outputs": [
    {
     "name": "stdout",
     "output_type": "stream",
     "text": [
      "Parent1 method1\n",
      "Parent2 method2\n"
     ]
    }
   ],
   "source": [
    "class Parent1:\n",
    "    def method1(self):\n",
    "        print(\"Parent1 method1\")\n",
    "\n",
    "class Parent2:\n",
    "    def method2(self):\n",
    "        print(\"Parent2 method2\")\n",
    "\n",
    "class Child(Parent1, Parent2):\n",
    "    pass\n",
    "\n",
    "c = Child()\n",
    "c.method1()\n",
    "c.method2()\n"
   ]
  },
  {
   "cell_type": "markdown",
   "id": "11fec2d3-00b9-408e-a3d5-335992f612f4",
   "metadata": {},
   "source": [
    "## Q4. What are getter and setter in python? Create a class and create a getter and a setter method in this class."
   ]
  },
  {
   "cell_type": "markdown",
   "id": "a7e4ca24-e822-469b-ae67-4908d1fc33fa",
   "metadata": {},
   "source": [
    "In object-oriented programming, getters and setters are methods used to retrieve and update the values of object properties, respectively. The use of getters and setters is a common technique for encapsulating object data and ensuring that it can be accessed and modified in a controlled and predictable manner."
   ]
  },
  {
   "cell_type": "code",
   "execution_count": 18,
   "id": "1fc46ff7-fdf9-4b6c-972b-5a7f4988a667",
   "metadata": {},
   "outputs": [
    {
     "name": "stdout",
     "output_type": "stream",
     "text": [
      "Vishvesh Jain\n",
      "Manish Sharma\n"
     ]
    }
   ],
   "source": [
    "class Person:\n",
    "    def __init__(self, name):\n",
    "        self._name = name\n",
    "\n",
    "    def get_name(self):\n",
    "        return self._name\n",
    "\n",
    "    def set_name(self, name):\n",
    "        self._name = name\n",
    "\n",
    "person = Person(\"Vishvesh Jain\")\n",
    "print(person.get_name()) \n",
    "person.set_name(\"Manish Sharma\")\n",
    "print(person.get_name()) \n"
   ]
  },
  {
   "cell_type": "markdown",
   "id": "4b4e197b-b79f-4ab6-a811-3952f47c84d1",
   "metadata": {},
   "source": [
    "## Q5.What is method overriding in python? Write a python code to demonstrate method overriding."
   ]
  },
  {
   "cell_type": "markdown",
   "id": "1097327c-4725-4ce2-847b-3cb02e62fc32",
   "metadata": {},
   "source": [
    "Method overriding is a feature of object-oriented programming in which a subclass can provide a new implementation of a method that is already defined in its parent class. The subclass method is said to \"override\" the parent class method. This allows the subclass to change or extend the behavior of the method inherited from the parent class, while still maintaining the same method signature."
   ]
  },
  {
   "cell_type": "code",
   "execution_count": 19,
   "id": "276b9edb-1338-404c-aff7-44d7bf7aaa07",
   "metadata": {},
   "outputs": [
    {
     "name": "stdout",
     "output_type": "stream",
     "text": [
      "200\n",
      "314.0\n"
     ]
    }
   ],
   "source": [
    "class Shape:\n",
    "    def area(self):\n",
    "        pass\n",
    "\n",
    "class Rectangle(Shape):\n",
    "    def __init__(self, width, height):\n",
    "        self.width = width\n",
    "        self.height = height\n",
    "\n",
    "    def area(self):\n",
    "        return self.width * self.height\n",
    "\n",
    "class Circle(Shape):\n",
    "    def __init__(self, radius):\n",
    "        self.radius = radius\n",
    "\n",
    "    def area(self):\n",
    "        return 3.14 * self.radius * self.radius\n",
    "\n",
    "rect = Rectangle(10, 20)\n",
    "print(rect.area()) # Output: 200\n",
    "\n",
    "circle = Circle(10)\n",
    "print(circle.area()) # Output: 314.0\n"
   ]
  },
  {
   "cell_type": "code",
   "execution_count": null,
   "id": "324ec1b4-9552-4260-8c90-960e0c18cc99",
   "metadata": {},
   "outputs": [],
   "source": []
  }
 ],
 "metadata": {
  "kernelspec": {
   "display_name": "Python 3 (ipykernel)",
   "language": "python",
   "name": "python3"
  },
  "language_info": {
   "codemirror_mode": {
    "name": "ipython",
    "version": 3
   },
   "file_extension": ".py",
   "mimetype": "text/x-python",
   "name": "python",
   "nbconvert_exporter": "python",
   "pygments_lexer": "ipython3",
   "version": "3.10.8"
  }
 },
 "nbformat": 4,
 "nbformat_minor": 5
}
